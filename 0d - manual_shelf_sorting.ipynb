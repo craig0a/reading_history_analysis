{
 "cells": [
  {
   "cell_type": "markdown",
   "metadata": {},
   "source": [
    "# Prepare notebook"
   ]
  },
  {
   "cell_type": "code",
   "execution_count": null,
   "metadata": {},
   "outputs": [],
   "source": [
    "import json \n",
    "import pandas as pd"
   ]
  },
  {
   "cell_type": "markdown",
   "metadata": {},
   "source": [
    "# Import data"
   ]
  },
  {
   "cell_type": "code",
   "execution_count": null,
   "metadata": {},
   "outputs": [],
   "source": [
    "books = pd.read_pickle('20191128_goodreads_book_data.pkl')"
   ]
  },
  {
   "cell_type": "markdown",
   "metadata": {},
   "source": [
    "# Initial exploration of the data"
   ]
  },
  {
   "cell_type": "code",
   "execution_count": null,
   "metadata": {},
   "outputs": [],
   "source": [
    "shelves = pd.get_dummies(books.goodreads_shelves.apply(pd.Series).stack()).sum(level=0)"
   ]
  },
  {
   "cell_type": "code",
   "execution_count": null,
   "metadata": {},
   "outputs": [],
   "source": [
    "shelves = shelves.astype(bool)"
   ]
  },
  {
   "cell_type": "code",
   "execution_count": null,
   "metadata": {},
   "outputs": [],
   "source": [
    "shelves.sum().sort_values(ascending = False).iloc[0:30]"
   ]
  },
  {
   "cell_type": "code",
   "execution_count": null,
   "metadata": {},
   "outputs": [],
   "source": [
    "shelves = shelves.reindex(books.index)"
   ]
  },
  {
   "cell_type": "code",
   "execution_count": null,
   "metadata": {},
   "outputs": [],
   "source": [
    "academic_field_mappings  = { 'humanities': ['archaeology','art','architecture','cartography','history','music', \n",
    "                                'library-science', 'linguistics'],\n",
    "                 \n",
    "                      'social_sciences': ['business','economics','education','finance','psychology','geography',\n",
    "                                          'political-science','sociology','social-science', 'journalism', \n",
    "                                          'management'],\n",
    "\n",
    "                      'physical_sciences':['anthropology','astronomy',\n",
    "                                        'biology', 'natural-history',\n",
    "                                        'chemistry','computer-science','ecology',\n",
    "                                        'earth-sciences','engineering',\n",
    "                                        'geology','medicine',  \n",
    "                                         'neuroscience',\n",
    "                                        'palaeontology',   'mathematics','physics'],\n",
    "                     }\n",
    "\n"
   ]
  },
  {
   "cell_type": "code",
   "execution_count": null,
   "metadata": {},
   "outputs": [],
   "source": [
    "category_mappings = {'history': ['history','19th-century','archaeology','ancient','american-history','art-history','ancient-history',\n",
    "                             'classical-studies','civil-war','egyptology','european-history','food-history','historical', \n",
    "                             'history-of-science','holocaust', 'medieval', 'medieval-history', \n",
    "                             'medievalism', 'microhistory','military-history', 'prehistory', 'roman', 'victorian',\n",
    "                             'war', 'world-history', 'world-war-ii','palaeontology'],\n",
    "                 \n",
    "                 'sociology': ['activism', 'african-american','communication','crime','disability',\n",
    "                              'family','feminism','gay','gender','gender-studies','health-care', 'social-justice',\n",
    "                               'relationships', 'leadership', 'lgbt', 'politics', 'parenting', 'money', 'productivity',\n",
    "                               'queer','race', 'social-issues',  'society',  'witchcraft',\n",
    "                               'womens','business','economics','education','finance','psychology','geography',\n",
    "                                'political-science','sociology','social-science', 'journalism', \n",
    "                                'management'],\n",
    "                        \n",
    "                 'sciences':['ecology','earth-sciences','biology', 'natural-history','anthropology','animals','birds','cats','conservation',\n",
    "                                     'dinosaurs','dogs','science-nature','geology',\n",
    "                                     'environment','evolution', 'genetics', 'nature', 'ornithology',\n",
    "                                     'outdoors', 'plants', 'space', 'wildlife', 'science','astronomy',\n",
    "                                   'chemistry','mathematics','physics'],\n",
    "                 \n",
    "                 'technology':['computer-science','artificial-intelligence','computers',\n",
    "                               'hackers', 'internet', 'technology', 'theory','engineering'],\n",
    "                 \n",
    "                 'philosophy':['atheism','buddhism','christianity','eastern-philosophy','inspirational','islam',\n",
    "                               'judaism','occult', 'philosophy', 'spirituality', 'religion', 'taoism'],\n",
    "                \n",
    "                 \n",
    "                 'culture':['art','architecture','cartography','alcohol','basketball', 'classical-music','cultural','book-club','crafts',\n",
    "                            'design','espionage','fashion','gardening', 'jazz','music', \n",
    "                             'photography', 'sports', 'theatre',  'language', 'librarianship',\n",
    "                            'writing', 'magic','maps','witches','plays', 'poetry', 'classics','library-science', 'linguistics'],\n",
    "                 \n",
    "                 'literatures':['literature', 'british-literature','classic-literature',\n",
    "                                    'english-literature', 'french-literature', 'italian-literature', 'japanese-literature',\n",
    "                                     'russian-literature', 'spanish-literature'],\n",
    "                 \n",
    "                  'other':['comedy', 'drama','fantasy','horror', 'humor',  'mystery',\n",
    "                            'romance', 'novels', 'science-fiction', 'short-stories', 'thriller', 'tragedy',\n",
    "                                'true-crime','books-about-books','collections','essays'],\n",
    "                 \n",
    "                  'mythology': ['arthurian','fairy-tales', 'folk-tales','folklore', 'mythology'],\n",
    "                 \n",
    "                 'biography':['autobiography','biography','biography-memoir','diary', 'memoir','travelogue'],\n",
    "                 \n",
    "                \n",
    "                 'travel':['africa','adventure','american','asia','australia','canada','china','egypt', \n",
    "                           'france','greece','india', 'ireland', 'travel', 'italy', 'japan', 'new-york', 'pakistan',\n",
    "                           'russia', 'spain', 'the-united-states-of-america', 'united-states', 'western-africa'],\n",
    "                 \n",
    "                 'culinary': ['cookbooks','cooking','culinary','food','food-and-drink', 'foodie', 'tea'],\n",
    "                 \n",
    "                 'health':['medicine', 'neuroscience','brain','health','fitness', 'medical',  'mental-health', 'nutrition', 'personal-development', 'self-help']\n",
    "                }\n",
    "\n",
    " "
   ]
  },
  {
   "cell_type": "raw",
   "metadata": {},
   "source": [
    "set(shelves.columns.tolist()).difference(set([item for sublist in genre_mapping.values() for item in sublist]))\n"
   ]
  },
  {
   "cell_type": "code",
   "execution_count": null,
   "metadata": {},
   "outputs": [],
   "source": [
    "academic_fields = pd.DataFrame(index = shelves.index)\n",
    "for k,v in academic_field_mappings.items():\n",
    "    academic_fields[k] = (shelves[v].sum(axis =1) > 0)\n",
    "\n",
    "categories = pd.DataFrame(index = shelves.index)\n",
    "for k,v in category_mappings.items():\n",
    "    categories[k] = (shelves[v].sum(axis =1) > 0)"
   ]
  },
  {
   "cell_type": "code",
   "execution_count": null,
   "metadata": {},
   "outputs": [],
   "source": [
    "categories.sum()"
   ]
  },
  {
   "cell_type": "code",
   "execution_count": null,
   "metadata": {},
   "outputs": [],
   "source": [
    "academic_fields.sum()"
   ]
  },
  {
   "cell_type": "code",
   "execution_count": null,
   "metadata": {},
   "outputs": [],
   "source": [
    "shelves.to_pickle('20191128_goodreads_book_shelves.pkl')"
   ]
  },
  {
   "cell_type": "code",
   "execution_count": null,
   "metadata": {},
   "outputs": [],
   "source": [
    "categories.to_pickle('20191128_goodreads_book_categories.pkl')\n",
    "json.dump(category_mappings, open(\"category_mappings.json\",\"w\"))"
   ]
  },
  {
   "cell_type": "code",
   "execution_count": null,
   "metadata": {},
   "outputs": [],
   "source": [
    "academic_fields.to_pickle('20191128_goodreads_book_academic_fields.pkl')\n",
    "json.dump(academic_field_mappings, open(\"academic_field_mappings.json\",\"w\"))"
   ]
  },
  {
   "cell_type": "code",
   "execution_count": null,
   "metadata": {},
   "outputs": [],
   "source": []
  }
 ],
 "metadata": {
  "kernelspec": {
   "display_name": "Python 3",
   "language": "python",
   "name": "python3"
  },
  "language_info": {
   "codemirror_mode": {
    "name": "ipython",
    "version": 3
   },
   "file_extension": ".py",
   "mimetype": "text/x-python",
   "name": "python",
   "nbconvert_exporter": "python",
   "pygments_lexer": "ipython3",
   "version": "3.7.1"
  }
 },
 "nbformat": 4,
 "nbformat_minor": 2
}
