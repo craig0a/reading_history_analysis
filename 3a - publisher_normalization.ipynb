{
 "cells": [
  {
   "cell_type": "markdown",
   "metadata": {},
   "source": [
    "# Prepare notebook"
   ]
  },
  {
   "cell_type": "code",
   "execution_count": 1,
   "metadata": {},
   "outputs": [],
   "source": [
    "import numpy as np\n",
    "import pandas as pd\n",
    "import re\n",
    "from sklearn.feature_extraction.text import CountVectorizer, TfidfVectorizer\n",
    "from sklearn.metrics.pairwise import cosine_similarity"
   ]
  },
  {
   "cell_type": "markdown",
   "metadata": {},
   "source": [
    "# Load data set, clean, & scrape web for additional information"
   ]
  },
  {
   "cell_type": "code",
   "execution_count": 2,
   "metadata": {},
   "outputs": [],
   "source": [
    "publishers = pd.read_csv('./goodreads_library_export.csv', usecols = ['Publisher']).fillna('')"
   ]
  },
  {
   "cell_type": "code",
   "execution_count": 3,
   "metadata": {},
   "outputs": [],
   "source": [
    "publishers['normalized'] = publishers['Publisher'].apply(lambda s: s.split('/')[0].strip())\n",
    "\n"
   ]
  },
  {
   "cell_type": "code",
   "execution_count": 4,
   "metadata": {},
   "outputs": [],
   "source": [
    "unique_publishers = publishers['normalized'].drop_duplicates()\n",
    "unique_publishers  = unique_publishers.reset_index(drop = True)"
   ]
  },
  {
   "cell_type": "code",
   "execution_count": 5,
   "metadata": {},
   "outputs": [],
   "source": [
    "publisher_counts = publishers['normalized'].value_counts()"
   ]
  },
  {
   "cell_type": "code",
   "execution_count": 6,
   "metadata": {},
   "outputs": [],
   "source": [
    "vectorizer = CountVectorizer(analyzer = 'word', stop_words = ['press', 'publisher', 'publishing', 'publishers',\n",
    "                                                               'university', 'group', 'book', 'books'])#analyzer = 'char', ngram_range = (5,5), )\n",
    "publisher_ngrams = vectorizer.fit_transform(unique_publishers)\n",
    "#print(vectorizer.get_feature_names())"
   ]
  },
  {
   "cell_type": "code",
   "execution_count": 7,
   "metadata": {},
   "outputs": [],
   "source": [
    "similarities = np.triu(cosine_similarity(publisher_ngrams))"
   ]
  },
  {
   "cell_type": "code",
   "execution_count": 8,
   "metadata": {},
   "outputs": [],
   "source": [
    "matches = np.where((similarities > 0.5) & (similarities < 0.9999))"
   ]
  },
  {
   "cell_type": "code",
   "execution_count": 9,
   "metadata": {},
   "outputs": [],
   "source": [
    "d = {}\n",
    "\n",
    "for i, m1 in enumerate(matches[0]):\n",
    "    if m1 not in d.keys():\n",
    "        d[m1] = [unique_publishers[m1], unique_publishers[matches[1][i]]]    \n",
    "    else:\n",
    "        d[m1] += [unique_publishers[matches[1][i]]] \n",
    "                "
   ]
  },
  {
   "cell_type": "code",
   "execution_count": 10,
   "metadata": {},
   "outputs": [],
   "source": [
    "publisher_map = {}\n",
    "for v in d.values():\n",
    "    standard_name = v[np.argmax([publisher_counts[p] for p in v])]\n",
    "    v.remove(standard_name) \n",
    "    for p in v:\n",
    "        publisher_map[p]=standard_name"
   ]
  },
  {
   "cell_type": "code",
   "execution_count": 11,
   "metadata": {},
   "outputs": [],
   "source": [
    "for k,v in publisher_map.items():\n",
    "    if v in publisher_map.keys():\n",
    "        publisher_map[k] = publisher_map[v]"
   ]
  },
  {
   "cell_type": "code",
   "execution_count": 12,
   "metadata": {},
   "outputs": [],
   "source": [
    "publisher_map = pd.DataFrame.from_dict(publisher_map, orient = 'index')\n",
    "publisher_map.index.name = 'old_name'\n",
    "publisher_map = publisher_map.rename(columns = {0:'new_name'})\n"
   ]
  },
  {
   "cell_type": "code",
   "execution_count": 13,
   "metadata": {},
   "outputs": [],
   "source": [
    "publishers = pd.DataFrame(publishers).merge(publisher_map, left_on = 'normalized', right_on = 'old_name', how = 'left')"
   ]
  },
  {
   "cell_type": "code",
   "execution_count": 14,
   "metadata": {},
   "outputs": [],
   "source": [
    "idx = publishers.new_name.notnull()\n",
    "publishers.loc[idx, 'normalized'] = publishers.loc[idx, 'new_name']"
   ]
  },
  {
   "cell_type": "code",
   "execution_count": 15,
   "metadata": {},
   "outputs": [],
   "source": [
    "publishers['stripped'] =publishers['normalized'].apply(lambda s: re.sub(\"([a-z])([A-Z])\",\"\\g<1> \\g<2>\", s)\n",
    "                                                       .lower().replace('press', '')\n",
    "                                                       .replace('publishers', '')\n",
    "                                                       .replace('publishing', '')\n",
    "                                                       .replace('publisher', '')\n",
    "                                                       .replace('publications', '')\n",
    "                                                       .replace('university', '')\n",
    "                                                       .replace('square', '')\n",
    "                                                       .replace('group', '')\n",
    "                                                       .replace('books', '')\n",
    "                                                       .replace('book', '')\n",
    "                                                       .replace('editions', '')\n",
    "                                                       .replace('audio','')\n",
    "                                                       .strip()\n",
    "                                                      )"
   ]
  },
  {
   "cell_type": "code",
   "execution_count": 16,
   "metadata": {},
   "outputs": [],
   "source": [
    "unique_publishers  = publishers[['normalized','stripped']].reset_index(drop = True)"
   ]
  },
  {
   "cell_type": "code",
   "execution_count": 17,
   "metadata": {},
   "outputs": [],
   "source": [
    "publisher_counts = publishers['normalized'].value_counts()"
   ]
  },
  {
   "cell_type": "code",
   "execution_count": 18,
   "metadata": {},
   "outputs": [],
   "source": [
    "vectorizer = CountVectorizer(analyzer = 'char', ngram_range = (4,4), max_df = 0.7)\n",
    "publisher_ngrams = vectorizer.fit_transform(unique_publishers['stripped'])\n",
    "#print(vectorizer.get_feature_names())"
   ]
  },
  {
   "cell_type": "code",
   "execution_count": 19,
   "metadata": {},
   "outputs": [],
   "source": [
    "similarities = np.triu(cosine_similarity(publisher_ngrams))"
   ]
  },
  {
   "cell_type": "code",
   "execution_count": 20,
   "metadata": {},
   "outputs": [],
   "source": [
    "matches = np.where((similarities > 0.6) & (similarities < 0.9999))"
   ]
  },
  {
   "cell_type": "code",
   "execution_count": 21,
   "metadata": {},
   "outputs": [],
   "source": [
    "d = {}\n",
    "\n",
    "for i, m1 in enumerate(matches[0]):\n",
    "    if m1 not in d.keys():\n",
    "        d[m1] = [unique_publishers.loc[m1, 'normalized'], unique_publishers.loc[matches[1][i],'normalized']]    \n",
    "    else:\n",
    "        d[m1] += [unique_publishers.loc[matches[1][i],'normalized']] \n",
    "                "
   ]
  },
  {
   "cell_type": "code",
   "execution_count": 22,
   "metadata": {},
   "outputs": [],
   "source": [
    "publisher_map = {}\n",
    "for v in d.values():\n",
    "    standard_name = v[np.argmax([publisher_counts[p] for p in v])]\n",
    "    v.remove(standard_name) \n",
    "    for p in v:\n",
    "        publisher_map[p]=standard_name"
   ]
  },
  {
   "cell_type": "code",
   "execution_count": 23,
   "metadata": {},
   "outputs": [],
   "source": [
    "for k,v in publisher_map.items():\n",
    "    if v in publisher_map.keys():\n",
    "        publisher_map[k] = publisher_map[v]"
   ]
  },
  {
   "cell_type": "code",
   "execution_count": 24,
   "metadata": {},
   "outputs": [],
   "source": [
    "publisher_map = pd.DataFrame.from_dict(publisher_map, orient = 'index')\n",
    "publisher_map.index.name = 'old_name'\n",
    "publisher_map = publisher_map.rename(columns = {0:'new_name_2'})\n"
   ]
  },
  {
   "cell_type": "code",
   "execution_count": 25,
   "metadata": {},
   "outputs": [],
   "source": [
    "publishers = pd.DataFrame(publishers).merge(publisher_map, left_on = 'normalized', right_on = 'old_name', how = 'left')"
   ]
  },
  {
   "cell_type": "code",
   "execution_count": 26,
   "metadata": {},
   "outputs": [],
   "source": [
    "idx = publishers.new_name_2.notnull()\n",
    "publishers.loc[idx, 'normalized'] = publishers.loc[idx, 'new_name_2']"
   ]
  },
  {
   "cell_type": "code",
   "execution_count": 27,
   "metadata": {},
   "outputs": [
    {
     "data": {
      "text/plain": [
       "261"
      ]
     },
     "execution_count": 27,
     "metadata": {},
     "output_type": "execute_result"
    }
   ],
   "source": [
    "len(publishers.normalized.unique())"
   ]
  },
  {
   "cell_type": "code",
   "execution_count": 28,
   "metadata": {},
   "outputs": [
    {
     "data": {
      "text/plain": [
       "339"
      ]
     },
     "execution_count": 28,
     "metadata": {},
     "output_type": "execute_result"
    }
   ],
   "source": [
    "len(publishers.Publisher.unique())"
   ]
  },
  {
   "cell_type": "code",
   "execution_count": 29,
   "metadata": {
    "scrolled": true
   },
   "outputs": [
    {
     "data": {
      "text/plain": [
       "Oxford University Press, USA    49\n",
       "Penguin Books                   34\n",
       "W. W. Norton  Company           30\n",
       "Harper                          25\n",
       "                                19\n",
       "                                ..\n",
       "North Point Press                1\n",
       "Hill & Wang                      1\n",
       "Center Street                    1\n",
       "Common Courage Press             1\n",
       "Black Swan                       1\n",
       "Name: normalized, Length: 261, dtype: int64"
      ]
     },
     "execution_count": 29,
     "metadata": {},
     "output_type": "execute_result"
    }
   ],
   "source": [
    "publishers.normalized.value_counts()"
   ]
  },
  {
   "cell_type": "code",
   "execution_count": 36,
   "metadata": {},
   "outputs": [],
   "source": [
    "output = publishers.normalized\n",
    "output.name = 'Publisher'\n",
    "output.to_pickle('20191128_normalized_publisher.pkl')"
   ]
  },
  {
   "cell_type": "code",
   "execution_count": null,
   "metadata": {},
   "outputs": [],
   "source": [
    "\n"
   ]
  }
 ],
 "metadata": {
  "kernelspec": {
   "display_name": "Python 3",
   "language": "python",
   "name": "python3"
  },
  "language_info": {
   "codemirror_mode": {
    "name": "ipython",
    "version": 3
   },
   "file_extension": ".py",
   "mimetype": "text/x-python",
   "name": "python",
   "nbconvert_exporter": "python",
   "pygments_lexer": "ipython3",
   "version": "3.7.1"
  }
 },
 "nbformat": 4,
 "nbformat_minor": 2
}
