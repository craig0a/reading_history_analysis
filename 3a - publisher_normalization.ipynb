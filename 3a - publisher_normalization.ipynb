{
 "cells": [
  {
   "cell_type": "markdown",
   "metadata": {},
   "source": [
    "# Prepare notebook"
   ]
  },
  {
   "cell_type": "code",
   "execution_count": 1,
   "metadata": {},
   "outputs": [],
   "source": [
    "import numpy as np\n",
    "import pandas as pd\n",
    "import re\n",
    "from sklearn.feature_extraction.text import CountVectorizer, TfidfVectorizer\n",
    "from sklearn.metrics.pairwise import cosine_similarity"
   ]
  },
  {
   "cell_type": "markdown",
   "metadata": {},
   "source": [
    "# Load data set, clean, & scrape web for additional information"
   ]
  },
  {
   "cell_type": "code",
   "execution_count": 2,
   "metadata": {},
   "outputs": [],
   "source": [
    "publishers = pd.read_csv('./goodreads_library_export_cleaned.csv',  index_col = 0)[['Publisher']].fillna('')\n"
   ]
  },
  {
   "cell_type": "code",
   "execution_count": 3,
   "metadata": {},
   "outputs": [],
   "source": [
    "publishers['normalized'] = publishers['Publisher'].apply(lambda s: s.split('/')[0].strip())\n",
    "\n"
   ]
  },
  {
   "cell_type": "code",
   "execution_count": 4,
   "metadata": {},
   "outputs": [],
   "source": [
    "unique_publishers = publishers['normalized'].drop_duplicates()\n",
    "unique_publishers  = unique_publishers.reset_index(drop = True)"
   ]
  },
  {
   "cell_type": "code",
   "execution_count": 5,
   "metadata": {},
   "outputs": [],
   "source": [
    "publisher_counts = publishers['normalized'].value_counts()"
   ]
  },
  {
   "cell_type": "code",
   "execution_count": 6,
   "metadata": {},
   "outputs": [],
   "source": [
    "vectorizer = CountVectorizer(analyzer = 'word', stop_words = ['press', 'publisher', 'publishing', 'publishers',\n",
    "                                                               'university', 'group', 'book', 'books'])#analyzer = 'char', ngram_range = (5,5), )\n",
    "publisher_ngrams = vectorizer.fit_transform(unique_publishers)\n",
    "#print(vectorizer.get_feature_names())"
   ]
  },
  {
   "cell_type": "code",
   "execution_count": 7,
   "metadata": {},
   "outputs": [],
   "source": [
    "similarities = np.triu(cosine_similarity(publisher_ngrams))"
   ]
  },
  {
   "cell_type": "code",
   "execution_count": 8,
   "metadata": {},
   "outputs": [],
   "source": [
    "matches = np.where((similarities > 0.5) & (similarities < 0.9999))"
   ]
  },
  {
   "cell_type": "code",
   "execution_count": 9,
   "metadata": {},
   "outputs": [],
   "source": [
    "d = {}\n",
    "\n",
    "for i, m1 in enumerate(matches[0]):\n",
    "    if m1 not in d.keys():\n",
    "        d[m1] = [unique_publishers[m1], unique_publishers[matches[1][i]]]    \n",
    "    else:\n",
    "        d[m1] += [unique_publishers[matches[1][i]]] \n",
    "                "
   ]
  },
  {
   "cell_type": "code",
   "execution_count": 10,
   "metadata": {},
   "outputs": [],
   "source": [
    "publisher_map = {}\n",
    "for v in d.values():\n",
    "    standard_name = v[np.argmax([publisher_counts[p] for p in v])]\n",
    "    v.remove(standard_name) \n",
    "    for p in v:\n",
    "        publisher_map[p]=standard_name"
   ]
  },
  {
   "cell_type": "code",
   "execution_count": 11,
   "metadata": {},
   "outputs": [],
   "source": [
    "for k,v in publisher_map.items():\n",
    "    if v in publisher_map.keys():\n",
    "        publisher_map[k] = publisher_map[v]"
   ]
  },
  {
   "cell_type": "code",
   "execution_count": 12,
   "metadata": {},
   "outputs": [],
   "source": [
    "publisher_map = pd.DataFrame.from_dict(publisher_map, orient = 'index')\n",
    "publisher_map.index.name = 'old_name'\n",
    "publisher_map = publisher_map.rename(columns = {0:'new_name'})\n"
   ]
  },
  {
   "cell_type": "code",
   "execution_count": 13,
   "metadata": {},
   "outputs": [],
   "source": [
    "publishers['index'] = publishers.index\n",
    "publishers = pd.DataFrame(publishers).merge(publisher_map, left_on = 'normalized', \n",
    "                                            right_on = 'old_name', how = 'left')\n",
    "publishers = publishers.set_index('index')"
   ]
  },
  {
   "cell_type": "code",
   "execution_count": 14,
   "metadata": {},
   "outputs": [],
   "source": [
    "idx = publishers.new_name.notnull()\n",
    "publishers.loc[idx, 'normalized'] = publishers.loc[idx, 'new_name']"
   ]
  },
  {
   "cell_type": "code",
   "execution_count": 15,
   "metadata": {},
   "outputs": [],
   "source": [
    "publishers['stripped'] =publishers['normalized'].apply(lambda s: re.sub(\"([a-z])([A-Z])\",\"\\g<1> \\g<2>\", s)\n",
    "                                                       .lower().replace('press', '')\n",
    "                                                       .replace('publishers', '')\n",
    "                                                       .replace('publishing', '')\n",
    "                                                       .replace('publisher', '')\n",
    "                                                       .replace('publications', '')\n",
    "                                                       .replace('university', '')\n",
    "                                                       .replace('square', '')\n",
    "                                                       .replace('group', '')\n",
    "                                                       .replace('books', '')\n",
    "                                                       .replace('book', '')\n",
    "                                                       .replace('editions', '')\n",
    "                                                       .replace('audio','')\n",
    "                                                       .strip()\n",
    "                                                      )"
   ]
  },
  {
   "cell_type": "code",
   "execution_count": 16,
   "metadata": {},
   "outputs": [],
   "source": [
    "unique_publishers  = publishers[['normalized','stripped']].reset_index(drop = True)"
   ]
  },
  {
   "cell_type": "code",
   "execution_count": 17,
   "metadata": {},
   "outputs": [],
   "source": [
    "publisher_counts = publishers['normalized'].value_counts()"
   ]
  },
  {
   "cell_type": "code",
   "execution_count": 18,
   "metadata": {},
   "outputs": [],
   "source": [
    "vectorizer = CountVectorizer(analyzer = 'char', ngram_range = (4,4), max_df = 0.7)\n",
    "publisher_ngrams = vectorizer.fit_transform(unique_publishers['stripped'])\n",
    "#print(vectorizer.get_feature_names())"
   ]
  },
  {
   "cell_type": "code",
   "execution_count": 19,
   "metadata": {},
   "outputs": [],
   "source": [
    "similarities = np.triu(cosine_similarity(publisher_ngrams))"
   ]
  },
  {
   "cell_type": "code",
   "execution_count": 20,
   "metadata": {},
   "outputs": [],
   "source": [
    "matches = np.where((similarities > 0.6) & (similarities < 0.9999))"
   ]
  },
  {
   "cell_type": "code",
   "execution_count": 21,
   "metadata": {},
   "outputs": [],
   "source": [
    "d = {}\n",
    "\n",
    "for i, m1 in enumerate(matches[0]):\n",
    "    if m1 not in d.keys():\n",
    "        d[m1] = [unique_publishers.loc[m1, 'normalized'], unique_publishers.loc[matches[1][i],'normalized']]    \n",
    "    else:\n",
    "        d[m1] += [unique_publishers.loc[matches[1][i],'normalized']] \n",
    "                "
   ]
  },
  {
   "cell_type": "code",
   "execution_count": 22,
   "metadata": {},
   "outputs": [],
   "source": [
    "publisher_map = {}\n",
    "for v in d.values():\n",
    "    standard_name = v[np.argmax([publisher_counts[p] for p in v])]\n",
    "    v.remove(standard_name) \n",
    "    for p in v:\n",
    "        publisher_map[p]=standard_name"
   ]
  },
  {
   "cell_type": "code",
   "execution_count": 23,
   "metadata": {},
   "outputs": [],
   "source": [
    "for k,v in publisher_map.items():\n",
    "    if v in publisher_map.keys():\n",
    "        publisher_map[k] = publisher_map[v]"
   ]
  },
  {
   "cell_type": "code",
   "execution_count": 24,
   "metadata": {},
   "outputs": [],
   "source": [
    "publisher_map = pd.DataFrame.from_dict(publisher_map, orient = 'index')\n",
    "publisher_map.index.name = 'old_name'\n",
    "publisher_map = publisher_map.rename(columns = {0:'new_name_2'})\n"
   ]
  },
  {
   "cell_type": "code",
   "execution_count": 25,
   "metadata": {},
   "outputs": [],
   "source": [
    "publishers['index'] = publishers.index\n",
    "publishers = pd.DataFrame(publishers).merge(publisher_map, left_on = 'normalized', \n",
    "                                            right_on = 'old_name', how = 'left')\n",
    "publishers = publishers.set_index('index')"
   ]
  },
  {
   "cell_type": "code",
   "execution_count": 26,
   "metadata": {},
   "outputs": [],
   "source": [
    "idx = publishers.new_name_2.notnull()\n",
    "publishers.loc[idx, 'normalized'] = publishers.loc[idx, 'new_name_2']"
   ]
  },
  {
   "cell_type": "code",
   "execution_count": 27,
   "metadata": {},
   "outputs": [
    {
     "data": {
      "text/plain": [
       "209"
      ]
     },
     "execution_count": 27,
     "metadata": {},
     "output_type": "execute_result"
    }
   ],
   "source": [
    "len(publishers.normalized.unique())"
   ]
  },
  {
   "cell_type": "code",
   "execution_count": 28,
   "metadata": {},
   "outputs": [
    {
     "data": {
      "text/plain": [
       "274"
      ]
     },
     "execution_count": 28,
     "metadata": {},
     "output_type": "execute_result"
    }
   ],
   "source": [
    "len(publishers.Publisher.unique())"
   ]
  },
  {
   "cell_type": "code",
   "execution_count": 29,
   "metadata": {
    "scrolled": true
   },
   "outputs": [
    {
     "data": {
      "text/plain": [
       "Oxford University Press, USA    48\n",
       "Penguin Books                   26\n",
       "W. W. Norton  Company           21\n",
       "Harper                          19\n",
       "                                16\n",
       "                                ..\n",
       "Weidenfeld & Nicolson            1\n",
       "NYBG                             1\n",
       "Hachette                         1\n",
       "Bolinda                          1\n",
       "Bedford Books                    1\n",
       "Name: normalized, Length: 209, dtype: int64"
      ]
     },
     "execution_count": 29,
     "metadata": {},
     "output_type": "execute_result"
    }
   ],
   "source": [
    "publishers.normalized.value_counts()"
   ]
  },
  {
   "cell_type": "code",
   "execution_count": 30,
   "metadata": {},
   "outputs": [],
   "source": [
    "output = publishers[['normalized']].rename(columns = {'normalized': 'publisher'})\n",
    "output.to_pickle('20191128_normalized_publisher.pkl')"
   ]
  },
  {
   "cell_type": "code",
   "execution_count": 31,
   "metadata": {},
   "outputs": [
    {
     "data": {
      "text/html": [
       "<div>\n",
       "<style scoped>\n",
       "    .dataframe tbody tr th:only-of-type {\n",
       "        vertical-align: middle;\n",
       "    }\n",
       "\n",
       "    .dataframe tbody tr th {\n",
       "        vertical-align: top;\n",
       "    }\n",
       "\n",
       "    .dataframe thead th {\n",
       "        text-align: right;\n",
       "    }\n",
       "</style>\n",
       "<table border=\"1\" class=\"dataframe\">\n",
       "  <thead>\n",
       "    <tr style=\"text-align: right;\">\n",
       "      <th></th>\n",
       "      <th>Publisher</th>\n",
       "      <th>normalized</th>\n",
       "      <th>new_name</th>\n",
       "      <th>stripped</th>\n",
       "      <th>new_name_2</th>\n",
       "    </tr>\n",
       "    <tr>\n",
       "      <th>index</th>\n",
       "      <th></th>\n",
       "      <th></th>\n",
       "      <th></th>\n",
       "      <th></th>\n",
       "      <th></th>\n",
       "    </tr>\n",
       "  </thead>\n",
       "  <tbody>\n",
       "    <tr>\n",
       "      <th>0</th>\n",
       "      <td>Basic Books</td>\n",
       "      <td>Basic Books</td>\n",
       "      <td>NaN</td>\n",
       "      <td>basic</td>\n",
       "      <td>NaN</td>\n",
       "    </tr>\n",
       "    <tr>\n",
       "      <th>1</th>\n",
       "      <td>Knopf Publishing Group</td>\n",
       "      <td>Knopf</td>\n",
       "      <td>Knopf</td>\n",
       "      <td>knopf</td>\n",
       "      <td>NaN</td>\n",
       "    </tr>\n",
       "    <tr>\n",
       "      <th>4</th>\n",
       "      <td>HarperAudio</td>\n",
       "      <td>Harper</td>\n",
       "      <td>NaN</td>\n",
       "      <td>harper</td>\n",
       "      <td>Harper</td>\n",
       "    </tr>\n",
       "    <tr>\n",
       "      <th>5</th>\n",
       "      <td>Doubleday Books</td>\n",
       "      <td>Doubleday Books</td>\n",
       "      <td>NaN</td>\n",
       "      <td>doubleday</td>\n",
       "      <td>NaN</td>\n",
       "    </tr>\n",
       "    <tr>\n",
       "      <th>7</th>\n",
       "      <td>Hanover Square Press</td>\n",
       "      <td>Hanover Square Press</td>\n",
       "      <td>NaN</td>\n",
       "      <td>hanover</td>\n",
       "      <td>NaN</td>\n",
       "    </tr>\n",
       "    <tr>\n",
       "      <th>...</th>\n",
       "      <td>...</td>\n",
       "      <td>...</td>\n",
       "      <td>...</td>\n",
       "      <td>...</td>\n",
       "      <td>...</td>\n",
       "    </tr>\n",
       "    <tr>\n",
       "      <th>766</th>\n",
       "      <td>NYBG</td>\n",
       "      <td>NYBG</td>\n",
       "      <td>NaN</td>\n",
       "      <td>nybg</td>\n",
       "      <td>NaN</td>\n",
       "    </tr>\n",
       "    <tr>\n",
       "      <th>767</th>\n",
       "      <td>Basic Books</td>\n",
       "      <td>Basic Books</td>\n",
       "      <td>NaN</td>\n",
       "      <td>basic</td>\n",
       "      <td>NaN</td>\n",
       "    </tr>\n",
       "    <tr>\n",
       "      <th>768</th>\n",
       "      <td>Viking</td>\n",
       "      <td>Viking</td>\n",
       "      <td>NaN</td>\n",
       "      <td>viking</td>\n",
       "      <td>NaN</td>\n",
       "    </tr>\n",
       "    <tr>\n",
       "      <th>769</th>\n",
       "      <td>Oxford University Press, USA</td>\n",
       "      <td>Oxford University Press, USA</td>\n",
       "      <td>NaN</td>\n",
       "      <td>oxford  , usa</td>\n",
       "      <td>NaN</td>\n",
       "    </tr>\n",
       "    <tr>\n",
       "      <th>770</th>\n",
       "      <td>Harvard Business Review Press</td>\n",
       "      <td>Harvard University Press</td>\n",
       "      <td>Harvard University Press</td>\n",
       "      <td>harvard</td>\n",
       "      <td>NaN</td>\n",
       "    </tr>\n",
       "  </tbody>\n",
       "</table>\n",
       "<p>610 rows × 5 columns</p>\n",
       "</div>"
      ],
      "text/plain": [
       "                           Publisher                    normalized  \\\n",
       "index                                                                \n",
       "0                        Basic Books                   Basic Books   \n",
       "1             Knopf Publishing Group                         Knopf   \n",
       "4                        HarperAudio                        Harper   \n",
       "5                    Doubleday Books               Doubleday Books   \n",
       "7               Hanover Square Press          Hanover Square Press   \n",
       "...                              ...                           ...   \n",
       "766                             NYBG                          NYBG   \n",
       "767                      Basic Books                   Basic Books   \n",
       "768                           Viking                        Viking   \n",
       "769     Oxford University Press, USA  Oxford University Press, USA   \n",
       "770    Harvard Business Review Press      Harvard University Press   \n",
       "\n",
       "                       new_name       stripped new_name_2  \n",
       "index                                                      \n",
       "0                           NaN          basic        NaN  \n",
       "1                         Knopf          knopf        NaN  \n",
       "4                           NaN         harper     Harper  \n",
       "5                           NaN      doubleday        NaN  \n",
       "7                           NaN        hanover        NaN  \n",
       "...                         ...            ...        ...  \n",
       "766                         NaN           nybg        NaN  \n",
       "767                         NaN          basic        NaN  \n",
       "768                         NaN         viking        NaN  \n",
       "769                         NaN  oxford  , usa        NaN  \n",
       "770    Harvard University Press        harvard        NaN  \n",
       "\n",
       "[610 rows x 5 columns]"
      ]
     },
     "execution_count": 31,
     "metadata": {},
     "output_type": "execute_result"
    }
   ],
   "source": [
    "publishers"
   ]
  },
  {
   "cell_type": "code",
   "execution_count": null,
   "metadata": {},
   "outputs": [],
   "source": []
  }
 ],
 "metadata": {
  "kernelspec": {
   "display_name": "Python 3",
   "language": "python",
   "name": "python3"
  },
  "language_info": {
   "codemirror_mode": {
    "name": "ipython",
    "version": 3
   },
   "file_extension": ".py",
   "mimetype": "text/x-python",
   "name": "python",
   "nbconvert_exporter": "python",
   "pygments_lexer": "ipython3",
   "version": "3.7.1"
  }
 },
 "nbformat": 4,
 "nbformat_minor": 2
}
