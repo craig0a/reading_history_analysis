{
 "cells": [
  {
   "cell_type": "markdown",
   "metadata": {},
   "source": [
    "# Prepare notebook"
   ]
  },
  {
   "cell_type": "code",
   "execution_count": 1,
   "metadata": {},
   "outputs": [],
   "source": [
    "from bs4 import BeautifulSoup\n",
    "import googlesearch\n",
    "import isbnlib\n",
    "import json\n",
    "import pandas as pd\n",
    "import urllib\n",
    "import wikipedia\n",
    "\n"
   ]
  },
  {
   "cell_type": "code",
   "execution_count": 2,
   "metadata": {},
   "outputs": [],
   "source": [
    "API_key = ''"
   ]
  },
  {
   "cell_type": "markdown",
   "metadata": {},
   "source": [
    "# Load data set, clean, & scrape web for additional information"
   ]
  },
  {
   "cell_type": "code",
   "execution_count": 3,
   "metadata": {},
   "outputs": [],
   "source": [
    "books = pd.read_csv('./goodreads_library_export.csv')"
   ]
  },
  {
   "cell_type": "code",
   "execution_count": 4,
   "metadata": {},
   "outputs": [],
   "source": [
    "books = books[['ISBN13', 'Title', 'Author', 'My Rating','Publisher',\n",
    "       'Number of Pages', 'Year Published', 'Original Publication Year',\n",
    "       'Date Added', 'Bookshelves', 'Exclusive Shelf',\n",
    "       'Private Notes']]\n",
    "\n",
    "books = books.loc[~(books['Exclusive Shelf'] == 'to-read')]\n",
    "del books['Exclusive Shelf']"
   ]
  },
  {
   "cell_type": "code",
   "execution_count": 5,
   "metadata": {},
   "outputs": [],
   "source": [
    "books['Date Added'] = pd.to_datetime(books['Date Added'])"
   ]
  },
  {
   "cell_type": "code",
   "execution_count": 6,
   "metadata": {},
   "outputs": [],
   "source": [
    "books['recommended'] = books.Bookshelves.fillna(False).astype(bool)\n",
    "del books['Bookshelves']"
   ]
  },
  {
   "cell_type": "code",
   "execution_count": 7,
   "metadata": {},
   "outputs": [],
   "source": [
    "books['ISBN13'] = books['ISBN13'].apply(lambda s: s.replace('=','').replace('\"', '').strip())"
   ]
  },
  {
   "cell_type": "code",
   "execution_count": 8,
   "metadata": {},
   "outputs": [],
   "source": [
    "books.to_csv('./goodreads_library_export_cleaned.csv')"
   ]
  },
  {
   "cell_type": "code",
   "execution_count": null,
   "metadata": {
    "scrolled": true
   },
   "outputs": [],
   "source": [
    "scraped_data = {}\n",
    "\n",
    "for index, row in books.fillna('').iterrows():\n",
    "    scraped_data[index] = {'isbn': None,\n",
    "                           'categories': None,\n",
    "                           'description': None}\n",
    "\n",
    "    # Pull the Google Books information \n",
    "    try:\n",
    "        base_api_link = \"https://www.googleapis.com/books/v1/volumes?q=isbn:<isbn>&key=\"+API_key\n",
    "        with urllib.request.urlopen(base_api_link.replace('<isbn>', row['ISBN13'])) as f:\n",
    "            text = f.read()\n",
    "\n",
    "        decoded_text = text.decode(\"utf-8\")\n",
    "        google_books_data = json.loads(decoded_text) # deserializes decoded_text to a Python object\n",
    "        for identifier in google_books_data['items'][0]['volumeInfo']['industryIdentifiers']:\n",
    "            if identifier['type'] == 'ISBN_13':\n",
    "                scraped_data[index]['isbn'] = identifier['identifier']\n",
    "                break\n",
    "        scraped_data[index]['categories'] = google_books_data['items'][0]['volumeInfo']['categories']\n",
    "        scraped_data[index]['description'] = google_books_data['items'][0]['volumeInfo']['description']\n",
    "    except:\n",
    "        try:\n",
    "            base_api_link = \"https://www.googleapis.com/books/v1/volumes?q=intitle:<title>+inauthor:<author>&key=\"+API_key\n",
    "            with urllib.request.urlopen(base_api_link.replace('<title>', row['Title'].replace(' ', '+'))\n",
    "                                                      .replace('<author>', row['Author'].replace(' ', '+'))) as f:\n",
    "                text = f.read()\n",
    "\n",
    "            decoded_text = text.decode(\"utf-8\")\n",
    "            google_books_data = json.loads(decoded_text) # deserializes decoded_text to a Python object\n",
    "            for identifier in google_books_data['items'][0]['volumeInfo']['industryIdentifiers']:\n",
    "                if identifier['type'] == 'ISBN_13':\n",
    "                    scraped_data[index]['isbn'] = identifier['identifier']\n",
    "                    break\n",
    "            scraped_data[index]['categories'] = google_books_data['items'][0]['volumeInfo']['categories']\n",
    "            scraped_data[index]['description'] = google_books_data['items'][0]['volumeInfo']['description']\n",
    "        except:\n",
    "            print('Unable to collect Google Books data for %s'%row['Title'])"
   ]
  },
  {
   "cell_type": "code",
   "execution_count": null,
   "metadata": {},
   "outputs": [],
   "source": [
    "books = books[[ 'Title', 'Author', 'Publisher', 'My Rating','Number of Pages', 'Year Published', \n",
    "                    'Original Publication Year', 'Date Added', 'recommended']].join(pd.DataFrame(scraped_data).T)"
   ]
  },
  {
   "cell_type": "code",
   "execution_count": null,
   "metadata": {},
   "outputs": [],
   "source": [
    "books.count()"
   ]
  },
  {
   "cell_type": "code",
   "execution_count": null,
   "metadata": {},
   "outputs": [],
   "source": [
    "books.to_pickle('20191128_google_book_data.pkl')"
   ]
  },
  {
   "cell_type": "code",
   "execution_count": null,
   "metadata": {},
   "outputs": [],
   "source": []
  }
 ],
 "metadata": {
  "kernelspec": {
   "display_name": "Python 3",
   "language": "python",
   "name": "python3"
  },
  "language_info": {
   "codemirror_mode": {
    "name": "ipython",
    "version": 3
   },
   "file_extension": ".py",
   "mimetype": "text/x-python",
   "name": "python",
   "nbconvert_exporter": "python",
   "pygments_lexer": "ipython3",
   "version": "3.7.1"
  }
 },
 "nbformat": 4,
 "nbformat_minor": 2
}
