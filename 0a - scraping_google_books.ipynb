{
 "cells": [
  {
   "cell_type": "markdown",
   "metadata": {},
   "source": [
    "# Prepare notebook"
   ]
  },
  {
   "cell_type": "code",
   "execution_count": 1,
   "metadata": {},
   "outputs": [],
   "source": [
    "from bs4 import BeautifulSoup\n",
    "import googlesearch\n",
    "import isbnlib\n",
    "import json\n",
    "import pandas as pd\n",
    "import urllib\n",
    "import wikipedia\n",
    "\n"
   ]
  },
  {
   "cell_type": "code",
   "execution_count": 2,
   "metadata": {},
   "outputs": [],
   "source": [
    "API_key = ''"
   ]
  },
  {
   "cell_type": "markdown",
   "metadata": {},
   "source": [
    "# Load data set, clean, & scrape web for additional information"
   ]
  },
  {
   "cell_type": "code",
   "execution_count": 3,
   "metadata": {},
   "outputs": [],
   "source": [
    "books = pd.read_csv('./goodreads_library_export.csv')"
   ]
  },
  {
   "cell_type": "code",
   "execution_count": 4,
   "metadata": {},
   "outputs": [],
   "source": [
    "books = books[['ISBN13', 'Title', 'Author', 'My Rating','Publisher',\n",
    "       'Number of Pages', 'Year Published', 'Original Publication Year',\n",
    "       'Date Added', 'Bookshelves', 'Exclusive Shelf',\n",
    "       'Private Notes']]\n",
    "\n",
    "books = books.loc[~(books['Exclusive Shelf'] == 'to-read')]\n",
    "del books['Exclusive Shelf']"
   ]
  },
  {
   "cell_type": "code",
   "execution_count": 5,
   "metadata": {},
   "outputs": [],
   "source": [
    "books['Date Added'] = pd.to_datetime(books['Date Added'])"
   ]
  },
  {
   "cell_type": "code",
   "execution_count": 6,
   "metadata": {},
   "outputs": [],
   "source": [
    "books['recommended'] = books.Bookshelves.fillna(False).astype(bool)\n",
    "del books['Bookshelves']"
   ]
  },
  {
   "cell_type": "code",
   "execution_count": 7,
   "metadata": {},
   "outputs": [],
   "source": [
    "books['ISBN13'] = books['ISBN13'].apply(lambda s: s.replace('=','').replace('\"', '').strip())"
   ]
  },
  {
   "cell_type": "code",
   "execution_count": 31,
   "metadata": {
    "scrolled": true
   },
   "outputs": [
    {
     "name": "stdout",
     "output_type": "stream",
     "text": [
      "Unable to collect Google Books data for People We Meet: Unforgettable Conversations\n",
      "Unable to collect Google Books data for The Order of Time\n",
      "Unable to collect Google Books data for Classic Irish Short Stories\n",
      "Unable to collect Google Books data for The Complete Works of Edgar Allan Poe\n",
      "Unable to collect Google Books data for The Weather Detective: Rediscovering Nature’s Secret Signs\n",
      "Unable to collect Google Books data for White Fragility: Why It’s So Hard for White People to Talk About Racism\n",
      "Unable to collect Google Books data for The Creativity Code: How AI Is Learning to Write, Paint and Think\n",
      "Unable to collect Google Books data for The Secret Wisdom of Nature: Trees, Animals, and the Extraordinary Balance of All Living Things ― Stories from Science and Observation\n",
      "Unable to collect Google Books data for The Laws of Human Nature\n",
      "Unable to collect Google Books data for The Art of Mindful Living: How to Bring Love, Compassion, and Inner Peace Into Your Daily Life\n",
      "Unable to collect Google Books data for Getting Unstuck: Breaking Your Habitual Patterns & Encountering Naked Reality\n",
      "Unable to collect Google Books data for The Autobiography of Benjamin Franklin\n",
      "Unable to collect Google Books data for No Visible Bruises: What We Don’t Know About Domestic Violence Can Kill Us\n",
      "Unable to collect Google Books data for The Fly Trap\n",
      "Unable to collect Google Books data for Saint Charles Borromeo a Sketch of the Reforming Cardinal\n",
      "Unable to collect Google Books data for The Extended Phenotype: The Long Reach of the Gene\n",
      "Unable to collect Google Books data for Fairy and Folk Tales of the Irish Peasantry\n",
      "Unable to collect Google Books data for Steep Trails - John Muir [ 25Th Anniversary & Unabridged Classic - Penguin Classics ] (ANNOTATED)\n",
      "Unable to collect Google Books data for A Woman Who Went to Alaska - Scholar's Choice Edition\n",
      "Unable to collect Google Books data for The No Plays of Japan\n",
      "Unable to collect Google Books data for Sappho: A New Rendering (Classic Reprint)\n",
      "Unable to collect Google Books data for Les Misérables Volume One: Fantine\n",
      "Unable to collect Google Books data for Roman Farm Management: The Treatises of Cato and Varro\n",
      "Unable to collect Google Books data for Aino Folk-Tales\n",
      "Unable to collect Google Books data for Maoriland Fairy Tales\n",
      "Unable to collect Google Books data for Perfectionism, Health, and Well-Being\n",
      "Unable to collect Google Books data for Meteorology or Weather Explained\n",
      "Unable to collect Google Books data for Collected Essays: Discourses, Biological and Geological\n",
      "Unable to collect Google Books data for 22 Goblins [Illustrated]\n",
      "Unable to collect Google Books data for Romances of Old Japan\n",
      "Unable to collect Google Books data for Fairy Tales from Brazil How and Why Tales from Brazilian Folk-Lore\n",
      "Unable to collect Google Books data for Ideas That Shaped Mankind: A Concise History of Human Thought\n",
      "Unable to collect Google Books data for Olduvai Gorge: My Search for Early Man\n",
      "Unable to collect Google Books data for On the Scent: A Journey Through the Science of Smell\n",
      "Unable to collect Google Books data for The Essential Naturalist: Timeless Readings in Natural History\n",
      "Unable to collect Google Books data for 10% Human: How Your Body's Microbes Hold the Key to Health and Happiness\n",
      "Unable to collect Google Books data for The Way of Natural History\n",
      "Unable to collect Google Books data for The Gifts of Imperfection: Let Go of Who You Think You're Supposed to Be and Embrace Who You Are\n",
      "Unable to collect Google Books data for Travels in Alaska\n",
      "Unable to collect Google Books data for Station Life In New Zealand\n",
      "Unable to collect Google Books data for How to Listen to Music: Hints and Suggestions to Untaught Lovers of the Art\n",
      "Unable to collect Google Books data for West African Folk Tales\n",
      "Unable to collect Google Books data for The Pope Who Would Be King: The Exile of Pius IX and the Emergence of Modern Europe\n",
      "Unable to collect Google Books data for StoryCorps: Outloud\n",
      "Unable to collect Google Books data for The Emerald Planet: How Plants Changed Earth's History\n",
      "Unable to collect Google Books data for Raciolinguistics: How Language Shapes Our Ideas about Race\n",
      "Unable to collect Google Books data for The Brain: What Everyone Needs To Know®\n",
      "Unable to collect Google Books data for Among the Tibetans\n",
      "Unable to collect Google Books data for Plants, People and Culture\n",
      "Unable to collect Google Books data for How We Talk: The Inner Workings of Conversation\n",
      "Unable to collect Google Books data for Enlightenment Now: The Case for Reason, Science, Humanism, and Progress\n",
      "Unable to collect Google Books data for Signals: Evolution, Learning, & Information\n",
      "Unable to collect Google Books data for Winning the Story Wars: Why Those Who Tell (and Live) the Best Stories Will Rule the Future\n"
     ]
    }
   ],
   "source": [
    "scraped_data = {}\n",
    "\n",
    "for index, row in books.fillna('').iterrows():\n",
    "    scraped_data[index] = {'isbn': None,\n",
    "                           'categories': None,\n",
    "                           'description': None}\n",
    "\n",
    "    # Pull the Google Books information \n",
    "    try:\n",
    "        base_api_link = \"https://www.googleapis.com/books/v1/volumes?q=isbn:<isbn>&key=\"+API_key\n",
    "        with urllib.request.urlopen(base_api_link.replace('<isbn>', row['ISBN13'])) as f:\n",
    "            text = f.read()\n",
    "\n",
    "        decoded_text = text.decode(\"utf-8\")\n",
    "        google_books_data = json.loads(decoded_text) # deserializes decoded_text to a Python object\n",
    "        for identifier in google_books_data['items'][0]['volumeInfo']['industryIdentifiers']:\n",
    "            if identifier['type'] == 'ISBN_13':\n",
    "                scraped_data[index]['isbn'] = identifier['identifier']\n",
    "                break\n",
    "        scraped_data[index]['categories'] = google_books_data['items'][0]['volumeInfo']['categories']\n",
    "        scraped_data[index]['description'] = google_books_data['items'][0]['volumeInfo']['description']\n",
    "    except:\n",
    "        try:\n",
    "            base_api_link = \"https://www.googleapis.com/books/v1/volumes?q=intitle:<title>+inauthor:<author>&key=\"+API_key\n",
    "            with urllib.request.urlopen(base_api_link.replace('<title>', row['Title'].replace(' ', '+'))\n",
    "                                                      .replace('<author>', row['Author'].replace(' ', '+'))) as f:\n",
    "                text = f.read()\n",
    "\n",
    "            decoded_text = text.decode(\"utf-8\")\n",
    "            google_books_data = json.loads(decoded_text) # deserializes decoded_text to a Python object\n",
    "            for identifier in google_books_data['items'][0]['volumeInfo']['industryIdentifiers']:\n",
    "                if identifier['type'] == 'ISBN_13':\n",
    "                    scraped_data[index]['isbn'] = identifier['identifier']\n",
    "                    break\n",
    "            scraped_data[index]['categories'] = google_books_data['items'][0]['volumeInfo']['categories']\n",
    "            scraped_data[index]['description'] = google_books_data['items'][0]['volumeInfo']['description']\n",
    "        except:\n",
    "            print('Unable to collect Google Books data for %s'%row['Title'])"
   ]
  },
  {
   "cell_type": "code",
   "execution_count": 36,
   "metadata": {},
   "outputs": [],
   "source": [
    "books = books[[ 'Title', 'Author', 'Publisher', 'My Rating','Number of Pages', 'Year Published', \n",
    "                    'Original Publication Year', 'Date Added', 'recommended']].join(pd.DataFrame(scraped_data).T)"
   ]
  },
  {
   "cell_type": "code",
   "execution_count": 37,
   "metadata": {},
   "outputs": [
    {
     "data": {
      "text/plain": [
       "Title                        610\n",
       "Author                       610\n",
       "Publisher                    594\n",
       "My Rating                    610\n",
       "Number of Pages              584\n",
       "Year Published               597\n",
       "Original Publication Year    571\n",
       "Date Added                   610\n",
       "recommended                  610\n",
       "isbn                         557\n",
       "categories                   576\n",
       "description                  557\n",
       "dtype: int64"
      ]
     },
     "execution_count": 37,
     "metadata": {},
     "output_type": "execute_result"
    }
   ],
   "source": [
    "books.count()"
   ]
  },
  {
   "cell_type": "code",
   "execution_count": 38,
   "metadata": {},
   "outputs": [],
   "source": [
    "books.to_pickle('20191128_google_book_data.pkl')"
   ]
  },
  {
   "cell_type": "code",
   "execution_count": null,
   "metadata": {},
   "outputs": [],
   "source": []
  }
 ],
 "metadata": {
  "kernelspec": {
   "display_name": "Python 3",
   "language": "python",
   "name": "python3"
  },
  "language_info": {
   "codemirror_mode": {
    "name": "ipython",
    "version": 3
   },
   "file_extension": ".py",
   "mimetype": "text/x-python",
   "name": "python",
   "nbconvert_exporter": "python",
   "pygments_lexer": "ipython3",
   "version": "3.7.1"
  }
 },
 "nbformat": 4,
 "nbformat_minor": 2
}
